{
 "cells": [
  {
   "cell_type": "markdown",
   "metadata": {},
   "source": [
    "# Project 2\n",
    "\n",
    "I chose to investigate the Titanic data. It looks like a sample of the passengers on the Titanic. The question I'd like to answer through this project is: \n",
    "\n",
    "**What factors made people more likely to survive?**\n",
    "\n",
    "In this analysis, I'll be examining 3 factors:\n",
    "- Gender\n",
    "- Age\n",
    "- Class\n",
    "\n",
    "I will use Jupyter Notebook, along with the numpy, pandas, and matplotlib python libraries to aid me in analyzing the dataset. "
   ]
  },
  {
   "cell_type": "code",
   "execution_count": 2,
   "metadata": {
    "collapsed": false,
    "scrolled": false
   },
   "outputs": [
    {
     "data": {
      "text/html": [
       "<div>\n",
       "<table border=\"1\" class=\"dataframe\">\n",
       "  <thead>\n",
       "    <tr style=\"text-align: right;\">\n",
       "      <th></th>\n",
       "      <th>PassengerId</th>\n",
       "      <th>Survived</th>\n",
       "      <th>Pclass</th>\n",
       "      <th>Name</th>\n",
       "      <th>Sex</th>\n",
       "      <th>Age</th>\n",
       "      <th>SibSp</th>\n",
       "      <th>Parch</th>\n",
       "      <th>Ticket</th>\n",
       "      <th>Fare</th>\n",
       "      <th>Cabin</th>\n",
       "      <th>Embarked</th>\n",
       "    </tr>\n",
       "  </thead>\n",
       "  <tbody>\n",
       "    <tr>\n",
       "      <th>886</th>\n",
       "      <td>887</td>\n",
       "      <td>0</td>\n",
       "      <td>2</td>\n",
       "      <td>Montvila, Rev. Juozas</td>\n",
       "      <td>male</td>\n",
       "      <td>27.0</td>\n",
       "      <td>0</td>\n",
       "      <td>0</td>\n",
       "      <td>211536</td>\n",
       "      <td>13.00</td>\n",
       "      <td>NaN</td>\n",
       "      <td>S</td>\n",
       "    </tr>\n",
       "    <tr>\n",
       "      <th>887</th>\n",
       "      <td>888</td>\n",
       "      <td>1</td>\n",
       "      <td>1</td>\n",
       "      <td>Graham, Miss. Margaret Edith</td>\n",
       "      <td>female</td>\n",
       "      <td>19.0</td>\n",
       "      <td>0</td>\n",
       "      <td>0</td>\n",
       "      <td>112053</td>\n",
       "      <td>30.00</td>\n",
       "      <td>B42</td>\n",
       "      <td>S</td>\n",
       "    </tr>\n",
       "    <tr>\n",
       "      <th>888</th>\n",
       "      <td>889</td>\n",
       "      <td>0</td>\n",
       "      <td>3</td>\n",
       "      <td>Johnston, Miss. Catherine Helen \"Carrie\"</td>\n",
       "      <td>female</td>\n",
       "      <td>NaN</td>\n",
       "      <td>1</td>\n",
       "      <td>2</td>\n",
       "      <td>W./C. 6607</td>\n",
       "      <td>23.45</td>\n",
       "      <td>NaN</td>\n",
       "      <td>S</td>\n",
       "    </tr>\n",
       "    <tr>\n",
       "      <th>889</th>\n",
       "      <td>890</td>\n",
       "      <td>1</td>\n",
       "      <td>1</td>\n",
       "      <td>Behr, Mr. Karl Howell</td>\n",
       "      <td>male</td>\n",
       "      <td>26.0</td>\n",
       "      <td>0</td>\n",
       "      <td>0</td>\n",
       "      <td>111369</td>\n",
       "      <td>30.00</td>\n",
       "      <td>C148</td>\n",
       "      <td>C</td>\n",
       "    </tr>\n",
       "    <tr>\n",
       "      <th>890</th>\n",
       "      <td>891</td>\n",
       "      <td>0</td>\n",
       "      <td>3</td>\n",
       "      <td>Dooley, Mr. Patrick</td>\n",
       "      <td>male</td>\n",
       "      <td>32.0</td>\n",
       "      <td>0</td>\n",
       "      <td>0</td>\n",
       "      <td>370376</td>\n",
       "      <td>7.75</td>\n",
       "      <td>NaN</td>\n",
       "      <td>Q</td>\n",
       "    </tr>\n",
       "  </tbody>\n",
       "</table>\n",
       "</div>"
      ],
      "text/plain": [
       "     PassengerId  Survived  Pclass                                      Name  \\\n",
       "886          887         0       2                     Montvila, Rev. Juozas   \n",
       "887          888         1       1              Graham, Miss. Margaret Edith   \n",
       "888          889         0       3  Johnston, Miss. Catherine Helen \"Carrie\"   \n",
       "889          890         1       1                     Behr, Mr. Karl Howell   \n",
       "890          891         0       3                       Dooley, Mr. Patrick   \n",
       "\n",
       "        Sex   Age  SibSp  Parch      Ticket   Fare Cabin Embarked  \n",
       "886    male  27.0      0      0      211536  13.00   NaN        S  \n",
       "887  female  19.0      0      0      112053  30.00   B42        S  \n",
       "888  female   NaN      1      2  W./C. 6607  23.45   NaN        S  \n",
       "889    male  26.0      0      0      111369  30.00  C148        C  \n",
       "890    male  32.0      0      0      370376   7.75   NaN        Q  "
      ]
     },
     "execution_count": 2,
     "metadata": {},
     "output_type": "execute_result"
    }
   ],
   "source": [
    "import pandas as pd\n",
    "import numpy as np\n",
    "import matplotlib.pyplot as plt\n",
    "%matplotlib inline\n",
    "\n",
    "data = pd.read_csv(\"/Users/davidhe/Downloads/UDAND/Project 2/titanic-data.csv\")\n",
    "data.head() #Checking to see if the csv file was read properly\n",
    "data.tail()"
   ]
  },
  {
   "cell_type": "markdown",
   "metadata": {},
   "source": [
    "After getting a feel for what fields this data contains and what it looks like, I'm ready to check the data types and clean the data, since there are missing values based on what I see above in the last 5 rows of data."
   ]
  },
  {
   "cell_type": "markdown",
   "metadata": {},
   "source": [
    "## Cleaning Data\n",
    "Now, I want to keep only the relevant columns that will help with my analysis, and check to see the data types and missing values in my data."
   ]
  },
  {
   "cell_type": "markdown",
   "metadata": {},
   "source": [
    "I think the following can be dropped for the following reason:\n",
    "\n",
    "- Name - this analysis is objective, the name is irrelevant\n",
    "\n",
    "- Ticket - it does not provide any sort of pattern, and cannot be calculated into something useful\n",
    "\n",
    "- Cabin - same as above, and also Pclass and Fare can be good substitutes, with more telling data\n",
    "\n",
    "- Embarked - unless people who board the ship at different stations tend to behave in a drastically different way, or have much better physique to survive cold ocean water... probably not relevant in this analysis"
   ]
  },
  {
   "cell_type": "code",
   "execution_count": 3,
   "metadata": {
    "collapsed": false
   },
   "outputs": [
    {
     "data": {
      "text/html": [
       "<div>\n",
       "<table border=\"1\" class=\"dataframe\">\n",
       "  <thead>\n",
       "    <tr style=\"text-align: right;\">\n",
       "      <th></th>\n",
       "      <th>PassengerId</th>\n",
       "      <th>Survived</th>\n",
       "      <th>Pclass</th>\n",
       "      <th>Sex</th>\n",
       "      <th>Age</th>\n",
       "      <th>SibSp</th>\n",
       "      <th>Parch</th>\n",
       "      <th>Fare</th>\n",
       "    </tr>\n",
       "  </thead>\n",
       "  <tbody>\n",
       "    <tr>\n",
       "      <th>0</th>\n",
       "      <td>1</td>\n",
       "      <td>0</td>\n",
       "      <td>3</td>\n",
       "      <td>male</td>\n",
       "      <td>22.0</td>\n",
       "      <td>1</td>\n",
       "      <td>0</td>\n",
       "      <td>7.2500</td>\n",
       "    </tr>\n",
       "    <tr>\n",
       "      <th>1</th>\n",
       "      <td>2</td>\n",
       "      <td>1</td>\n",
       "      <td>1</td>\n",
       "      <td>female</td>\n",
       "      <td>38.0</td>\n",
       "      <td>1</td>\n",
       "      <td>0</td>\n",
       "      <td>71.2833</td>\n",
       "    </tr>\n",
       "    <tr>\n",
       "      <th>2</th>\n",
       "      <td>3</td>\n",
       "      <td>1</td>\n",
       "      <td>3</td>\n",
       "      <td>female</td>\n",
       "      <td>26.0</td>\n",
       "      <td>0</td>\n",
       "      <td>0</td>\n",
       "      <td>7.9250</td>\n",
       "    </tr>\n",
       "    <tr>\n",
       "      <th>3</th>\n",
       "      <td>4</td>\n",
       "      <td>1</td>\n",
       "      <td>1</td>\n",
       "      <td>female</td>\n",
       "      <td>35.0</td>\n",
       "      <td>1</td>\n",
       "      <td>0</td>\n",
       "      <td>53.1000</td>\n",
       "    </tr>\n",
       "    <tr>\n",
       "      <th>4</th>\n",
       "      <td>5</td>\n",
       "      <td>0</td>\n",
       "      <td>3</td>\n",
       "      <td>male</td>\n",
       "      <td>35.0</td>\n",
       "      <td>0</td>\n",
       "      <td>0</td>\n",
       "      <td>8.0500</td>\n",
       "    </tr>\n",
       "  </tbody>\n",
       "</table>\n",
       "</div>"
      ],
      "text/plain": [
       "   PassengerId  Survived  Pclass     Sex   Age  SibSp  Parch     Fare\n",
       "0            1         0       3    male  22.0      1      0   7.2500\n",
       "1            2         1       1  female  38.0      1      0  71.2833\n",
       "2            3         1       3  female  26.0      0      0   7.9250\n",
       "3            4         1       1  female  35.0      1      0  53.1000\n",
       "4            5         0       3    male  35.0      0      0   8.0500"
      ]
     },
     "execution_count": 3,
     "metadata": {},
     "output_type": "execute_result"
    }
   ],
   "source": [
    "new_Data = data.drop(['Name','Ticket','Cabin','Embarked'],1)\n",
    "new_Data.head() # Looks good"
   ]
  },
  {
   "cell_type": "code",
   "execution_count": 4,
   "metadata": {
    "collapsed": false
   },
   "outputs": [
    {
     "data": {
      "text/plain": [
       "PassengerId      int64\n",
       "Survived         int64\n",
       "Pclass           int64\n",
       "Sex             object\n",
       "Age            float64\n",
       "SibSp            int64\n",
       "Parch            int64\n",
       "Fare           float64\n",
       "dtype: object"
      ]
     },
     "execution_count": 4,
     "metadata": {},
     "output_type": "execute_result"
    }
   ],
   "source": [
    "new_Data.dtypes # Checking to see if the data types are appropriate. Looks appropriate."
   ]
  },
  {
   "cell_type": "code",
   "execution_count": 5,
   "metadata": {
    "collapsed": false,
    "scrolled": true
   },
   "outputs": [
    {
     "data": {
      "text/plain": [
       "PassengerId      0\n",
       "Survived         0\n",
       "Pclass           0\n",
       "Sex              0\n",
       "Age            177\n",
       "SibSp            0\n",
       "Parch            0\n",
       "Fare             0\n",
       "dtype: int64"
      ]
     },
     "execution_count": 5,
     "metadata": {},
     "output_type": "execute_result"
    }
   ],
   "source": [
    "new_Data.isnull().sum() # Looks like Age has missing columns."
   ]
  },
  {
   "cell_type": "code",
   "execution_count": 16,
   "metadata": {
    "collapsed": false
   },
   "outputs": [
    {
     "data": {
      "text/plain": [
       "<matplotlib.text.Text at 0x111d7a1d0>"
      ]
     },
     "execution_count": 16,
     "metadata": {},
     "output_type": "execute_result"
    },
    {
     "data": {
      "image/png": "[encoded data removed]",
      "text/plain": [
       "<matplotlib.figure.Figure at 0x111269990>"
      ]
     },
     "metadata": {},
     "output_type": "display_data"
    }
   ],
   "source": [
    "new_Data['Age'].hist()\n",
    "plt.xlabel('Age')\n",
    "plt.ylabel('Frequency')\n",
    "plt.title('Distribution of Age')"
   ]
  },
  {
   "cell_type": "markdown",
   "metadata": {},
   "source": [
    "I choose to fill all the NaNs as the median of 'Age'. This should improve potential future calculations done to 'Age', while not drastically affecting the data quality."
   ]
  },
  {
   "cell_type": "code",
   "execution_count": 7,
   "metadata": {
    "collapsed": false
   },
   "outputs": [
    {
     "data": {
      "text/plain": [
       "PassengerId    0\n",
       "Survived       0\n",
       "Pclass         0\n",
       "Sex            0\n",
       "Age            0\n",
       "SibSp          0\n",
       "Parch          0\n",
       "Fare           0\n",
       "dtype: int64"
      ]
     },
     "execution_count": 7,
     "metadata": {},
     "output_type": "execute_result"
    }
   ],
   "source": [
    "new_Data['Age'].fillna(new_Data['Age'].median(), inplace = True)\n",
    "new_Data.isnull().sum() # No more missing values"
   ]
  },
  {
   "cell_type": "markdown",
   "metadata": {},
   "source": [
    "## Data Exploration and Visualization"
   ]
  },
  {
   "cell_type": "code",
   "execution_count": 8,
   "metadata": {
    "collapsed": false
   },
   "outputs": [
    {
     "data": {
      "text/html": [
       "<div>\n",
       "<table border=\"1\" class=\"dataframe\">\n",
       "  <thead>\n",
       "    <tr style=\"text-align: right;\">\n",
       "      <th></th>\n",
       "      <th>PassengerId</th>\n",
       "      <th>Survived</th>\n",
       "      <th>Pclass</th>\n",
       "      <th>Age</th>\n",
       "      <th>SibSp</th>\n",
       "      <th>Parch</th>\n",
       "      <th>Fare</th>\n",
       "    </tr>\n",
       "  </thead>\n",
       "  <tbody>\n",
       "    <tr>\n",
       "      <th>count</th>\n",
       "      <td>891.000000</td>\n",
       "      <td>891.000000</td>\n",
       "      <td>891.000000</td>\n",
       "      <td>891.000000</td>\n",
       "      <td>891.000000</td>\n",
       "      <td>891.000000</td>\n",
       "      <td>891.000000</td>\n",
       "    </tr>\n",
       "    <tr>\n",
       "      <th>mean</th>\n",
       "      <td>446.000000</td>\n",
       "      <td>0.383838</td>\n",
       "      <td>2.308642</td>\n",
       "      <td>29.361582</td>\n",
       "      <td>0.523008</td>\n",
       "      <td>0.381594</td>\n",
       "      <td>32.204208</td>\n",
       "    </tr>\n",
       "    <tr>\n",
       "      <th>std</th>\n",
       "      <td>257.353842</td>\n",
       "      <td>0.486592</td>\n",
       "      <td>0.836071</td>\n",
       "      <td>13.019697</td>\n",
       "      <td>1.102743</td>\n",
       "      <td>0.806057</td>\n",
       "      <td>49.693429</td>\n",
       "    </tr>\n",
       "    <tr>\n",
       "      <th>min</th>\n",
       "      <td>1.000000</td>\n",
       "      <td>0.000000</td>\n",
       "      <td>1.000000</td>\n",
       "      <td>0.420000</td>\n",
       "      <td>0.000000</td>\n",
       "      <td>0.000000</td>\n",
       "      <td>0.000000</td>\n",
       "    </tr>\n",
       "    <tr>\n",
       "      <th>25%</th>\n",
       "      <td>223.500000</td>\n",
       "      <td>0.000000</td>\n",
       "      <td>2.000000</td>\n",
       "      <td>22.000000</td>\n",
       "      <td>0.000000</td>\n",
       "      <td>0.000000</td>\n",
       "      <td>7.910400</td>\n",
       "    </tr>\n",
       "    <tr>\n",
       "      <th>50%</th>\n",
       "      <td>446.000000</td>\n",
       "      <td>0.000000</td>\n",
       "      <td>3.000000</td>\n",
       "      <td>28.000000</td>\n",
       "      <td>0.000000</td>\n",
       "      <td>0.000000</td>\n",
       "      <td>14.454200</td>\n",
       "    </tr>\n",
       "    <tr>\n",
       "      <th>75%</th>\n",
       "      <td>668.500000</td>\n",
       "      <td>1.000000</td>\n",
       "      <td>3.000000</td>\n",
       "      <td>35.000000</td>\n",
       "      <td>1.000000</td>\n",
       "      <td>0.000000</td>\n",
       "      <td>31.000000</td>\n",
       "    </tr>\n",
       "    <tr>\n",
       "      <th>max</th>\n",
       "      <td>891.000000</td>\n",
       "      <td>1.000000</td>\n",
       "      <td>3.000000</td>\n",
       "      <td>80.000000</td>\n",
       "      <td>8.000000</td>\n",
       "      <td>6.000000</td>\n",
       "      <td>512.329200</td>\n",
       "    </tr>\n",
       "  </tbody>\n",
       "</table>\n",
       "</div>"
      ],
      "text/plain": [
       "       PassengerId    Survived      Pclass         Age       SibSp  \\\n",
       "count   891.000000  891.000000  891.000000  891.000000  891.000000   \n",
       "mean    446.000000    0.383838    2.308642   29.361582    0.523008   \n",
       "std     257.353842    0.486592    0.836071   13.019697    1.102743   \n",
       "min       1.000000    0.000000    1.000000    0.420000    0.000000   \n",
       "25%     223.500000    0.000000    2.000000   22.000000    0.000000   \n",
       "50%     446.000000    0.000000    3.000000   28.000000    0.000000   \n",
       "75%     668.500000    1.000000    3.000000   35.000000    1.000000   \n",
       "max     891.000000    1.000000    3.000000   80.000000    8.000000   \n",
       "\n",
       "            Parch        Fare  \n",
       "count  891.000000  891.000000  \n",
       "mean     0.381594   32.204208  \n",
       "std      0.806057   49.693429  \n",
       "min      0.000000    0.000000  \n",
       "25%      0.000000    7.910400  \n",
       "50%      0.000000   14.454200  \n",
       "75%      0.000000   31.000000  \n",
       "max      6.000000  512.329200  "
      ]
     },
     "execution_count": 8,
     "metadata": {},
     "output_type": "execute_result"
    }
   ],
   "source": [
    "new_Data.describe() # Descriptive statistics"
   ]
  },
  {
   "cell_type": "markdown",
   "metadata": {
    "collapsed": true
   },
   "source": [
    "### In the movie, I vaguely remember the line \"Women and children first!\" Think they had a higher survival rate?"
   ]
  },
  {
   "cell_type": "markdown",
   "metadata": {},
   "source": [
    "#### The Gender Factor"
   ]
  },
  {
   "cell_type": "code",
   "execution_count": 9,
   "metadata": {
    "collapsed": false
   },
   "outputs": [
    {
     "name": "stdout",
     "output_type": "stream",
     "text": [
      "Sex\n",
      "female    0.742038\n",
      "male      0.188908\n",
      "Name: Survived, dtype: float64\n"
     ]
    }
   ],
   "source": [
    "print new_Data.groupby('Sex')['Survived'].mean()\n",
    "\n",
    "gender_survival = new_Data[new_Data['Survived'] == 1].groupby(['Sex']).size().values\n",
    "gender_nonsurvival = new_Data[new_Data['Survived'] == 0].groupby(['Sex']).size().values"
   ]
  },
  {
   "cell_type": "code",
   "execution_count": 10,
   "metadata": {
    "collapsed": false
   },
   "outputs": [
    {
     "name": "stdout",
     "output_type": "stream",
     "text": [
      "Men had a survival rate of  0.188908145581\n",
      "Women had a survival rate of  0.742038216561\n"
     ]
    }
   ],
   "source": [
    "male_survival_rate = new_Data['Survived'][new_Data['Sex'] == 'male'].mean()\n",
    "female_survival_rate = new_Data['Survived'][new_Data['Sex'] == 'female'].mean()\n",
    "gender_survival_rate = [female_survival_rate,male_survival_rate]\n",
    "\n",
    "print 'Men had a survival rate of ', male_survival_rate \n",
    "print 'Women had a survival rate of ', female_survival_rate"
   ]
  },
  {
   "cell_type": "code",
   "execution_count": 11,
   "metadata": {
    "collapsed": false
   },
   "outputs": [
    {
     "data": {
      "text/plain": [
       "<matplotlib.legend.Legend at 0x1114a5fd0>"
      ]
     },
     "execution_count": 11,
     "metadata": {},
     "output_type": "execute_result"
    },
    {
     "data": {
      "image/png": "[encoded data removed]",
      "text/plain": [
       "<matplotlib.figure.Figure at 0x1112a8c90>"
      ]
     },
     "metadata": {},
     "output_type": "display_data"
    }
   ],
   "source": [
    "gender = ['Female','Male']\n",
    "fig, (ax1, ax2) = plt.subplots(1, 2, figsize=(12,6))\n",
    "ax1.bar(range(len(gender_survival)), gender_survival, label = 'Survivors', color='g')\n",
    "ax1.bar(range(len(gender_nonsurvival)),gender_nonsurvival,label = 'Non-Survivors', bottom=gender_survival, color='r')\n",
    "plt.sca(ax1)\n",
    "plt.xticks([0, 1], gender)\n",
    "ax1.set_xlabel('Gender')\n",
    "ax1.set_ylabel('Count')\n",
    "ax1.set_title('Survivors by Gender')\n",
    "plt.legend()\n",
    "\n",
    "plt.sca(ax2)\n",
    "ax2.bar(range(len(gender_survival_rate)), gender_survival_rate,label = 'Survivors', color='b')\n",
    "plt.xticks([0,1], gender)\n",
    "ax2.set_xlabel('Gender')\n",
    "ax2.set_ylabel('Percentage')\n",
    "ax2.set_title('Percentage of Survivors by Gender')\n",
    "plt.legend()\n"
   ]
  },
  {
   "cell_type": "markdown",
   "metadata": {},
   "source": [
    "As I suspected, women had a much higher survival rates (74%) than men (19%). It is also worth noting that there were a lot more male passengers onboard than female passengers."
   ]
  },
  {
   "cell_type": "markdown",
   "metadata": {},
   "source": [
    "#### The Age Factor"
   ]
  },
  {
   "cell_type": "code",
   "execution_count": 12,
   "metadata": {
    "collapsed": false
   },
   "outputs": [
    {
     "name": "stdout",
     "output_type": "stream",
     "text": [
      "The survival rate of kids below the age of 18 is 0.53982300885\n",
      "The survival rate of adults is 0.36118251928\n"
     ]
    }
   ],
   "source": [
    "kid_survival_rate = new_Data['Survived'][new_Data['Age'] < 18].mean()\n",
    "adult_survival_rate = new_Data['Survived'][new_Data['Age'] >= 18].mean()\n",
    "age_survival_rate = [kid_survival_rate, adult_survival_rate]\n",
    "kid_nonsurvival_rate = 1 - kid_survival_rate\n",
    "adult_nonsurvival_rate = 1 - adult_survival_rate\n",
    "\n",
    "\n",
    "print 'The survival rate of kids below the age of 18 is', kid_survival_rate\n",
    "print 'The survival rate of adults is', adult_survival_rate"
   ]
  },
  {
   "cell_type": "code",
   "execution_count": 13,
   "metadata": {
    "collapsed": false
   },
   "outputs": [
    {
     "data": {
      "text/plain": [
       "<matplotlib.text.Text at 0x1119244d0>"
      ]
     },
     "execution_count": 13,
     "metadata": {},
     "output_type": "execute_result"
    },
    {
     "data": {
      "image/png": "[encoded data removed]",
      "text/plain": [
       "<matplotlib.figure.Figure at 0x1114f2cd0>"
      ]
     },
     "metadata": {},
     "output_type": "display_data"
    }
   ],
   "source": [
    "age_count = [len(new_Data[new_Data['Age'] < 18]), len(new_Data[new_Data['Age'] >= 18])]\n",
    "kid_survival = [kid_survival_rate,kid_nonsurvival_rate]\n",
    "adult_survival = [adult_survival_rate, adult_nonsurvival_rate]\n",
    "labels1 = 'Kids', 'Adults'\n",
    "labels2 = 'Survived', 'Did not survive'\n",
    "colors = ['lime','red']\n",
    "explode = (0, 0.1)\n",
    "\n",
    "fig, (ax1, ax2, ax3) = plt.subplots(1,3,figsize=(15,5))\n",
    "ax1.pie(age_count, explode=explode, labels=labels1,autopct='%1.1f%%',shadow=True, startangle=90)\n",
    "ax1.set_title(\"Total Passenger Age Breakdown\")\n",
    "\n",
    "ax2.pie(kid_survival,explode=explode,labels=labels2,autopct='%1.1f%%',shadow=True, colors=colors)\n",
    "ax2.set_title('Kids Survival Rate')\n",
    "\n",
    "ax3.pie(adult_survival,explode=explode,labels=labels2,autopct='%1.1f%%',shadow=True, startangle=170, colors=colors)\n",
    "ax3.set_title('Adults Survival Rate')"
   ]
  },
  {
   "cell_type": "markdown",
   "metadata": {},
   "source": [
    "Judging by the pie charts, there were fewer kids onboard than adults, but kids are more likely to survive than adults (54% vs 38%)"
   ]
  },
  {
   "cell_type": "markdown",
   "metadata": {},
   "source": [
    "#### The Class Factor"
   ]
  },
  {
   "cell_type": "code",
   "execution_count": 14,
   "metadata": {
    "collapsed": false
   },
   "outputs": [
    {
     "name": "stdout",
     "output_type": "stream",
     "text": [
      "The survival rate of first class passengers is 0.62962962963\n",
      "The survival rate of second class passengers is 0.472826086957\n",
      "The survival rate of third class passengers is 0.242362525458\n"
     ]
    }
   ],
   "source": [
    "class1_survival_rate = new_Data['Survived'][new_Data['Pclass'] == 1].mean()\n",
    "class2_survival_rate = new_Data['Survived'][new_Data['Pclass'] == 2].mean()\n",
    "class3_survival_rate = new_Data['Survived'][new_Data['Pclass'] == 3].mean()\n",
    "class1_survival = [class1_survival_rate, 1 - class1_survival_rate]\n",
    "class2_survival = [class2_survival_rate, 1 - class2_survival_rate]\n",
    "class3_survival = [class3_survival_rate, 1 - class3_survival_rate]\n",
    "\n",
    "print 'The survival rate of first class passengers is', class1_survival_rate\n",
    "print 'The survival rate of second class passengers is', class2_survival_rate\n",
    "print 'The survival rate of third class passengers is', class3_survival_rate"
   ]
  },
  {
   "cell_type": "code",
   "execution_count": 15,
   "metadata": {
    "collapsed": false
   },
   "outputs": [
    {
     "data": {
      "text/plain": [
       "<matplotlib.text.Text at 0x111c8c710>"
      ]
     },
     "execution_count": 15,
     "metadata": {},
     "output_type": "execute_result"
    },
    {
     "data": {
      "image/png": "[encoded data removed]",
      "text/plain": [
       "<matplotlib.figure.Figure at 0x111127390>"
      ]
     },
     "metadata": {},
     "output_type": "display_data"
    }
   ],
   "source": [
    "fig, (ax1, ax2, ax3) = plt.subplots(1,3,figsize=(15,5))\n",
    "labels = ['Survived','Did not Survive']\n",
    "colors = ['lime','red']\n",
    "explode = [0.1, 0]\n",
    "\n",
    "ax1.pie(class1_survival, explode=explode, shadow=True,labels=labels,autopct='%1.1f%%', colors = colors)\n",
    "ax2.pie(class2_survival, explode=explode, shadow=True,labels=labels,autopct='%1.1f%%', colors = colors)\n",
    "ax3.pie(class3_survival, explode=explode, shadow=True,labels=labels,autopct='%1.1f%%', colors = colors)\n",
    "ax1.set_title('First Class Survival Rate')\n",
    "ax2.set_title('Second Class Survival Rate')\n",
    "ax3.set_title('Third Class Survival Rate')"
   ]
  },
  {
   "cell_type": "markdown",
   "metadata": {},
   "source": [
    "Based on the pie charts, it seems first class passengers have the best chance for survival, second class passengers having the second best, while third class passengers have the worst chance. This is expected - paying more equates to better positioning on the ship, which would mean faster time to get to the lifeboats."
   ]
  },
  {
   "cell_type": "markdown",
   "metadata": {},
   "source": [
    "## Conclusion\n",
    "\n",
    "### Limitations\n",
    "In conclusion, I'd like to state some limitations of this dataset: 1) missing data and 2) only a sample of the actual data.\n",
    "\n",
    "Missing data reduce the representativeness of the sample, and can reduce the effectiveness of the analysis done to infer attributes and relationships amongst the population. Therefore, during the analysis, I decided to clean the missing data by imputing the variable Age's missing values as the median of all known ages.\n",
    "\n",
    "The imputation I did could have introduced bias to the distribution and variance, as well as statistical testing and assumptions. Furthermore, in the case of heteroskedasticity in the data, imputing missing values as the median would actually hurt more than help if there were severe outliers in the data. Depending on the nature of the missing values, there may be better imputation methods. In the case of the Age values being \"missing at random\", perhaps it is better to do multiple imputations, based on the expectation-maximization algorithm, or full information maximum likelihood estimation.\n",
    "\n",
    "### Other variables to consider\n",
    "In order to make better predictions, I think the following variables should have been introduced and would be interesting to analyze.\n",
    "\n",
    "- **distance to lifeboat**: did it matter if the people were close to the lifeboats and aboard them first? Were first class passengers naturally closer to the lifeboats, therefore supporting the conclusion that 1st class passengers had better survival rates than passengers in other classes? For the passengers of third class that survived, did they survive because they were closer to the lifeboats than the third class passengers who did not survived?\n",
    "- **passenger or crew**: were crews more likely to survive, since they knew the layout of the ship and emergency procedures in the case of a disaster? Or did they put the passengers' lives before their own?\n",
    "\n",
    "### Final note\n",
    "\n",
    "To summarize, the factors that made people more likely to survive are:\n",
    "- Gender\n",
    "- Age\n",
    "- Class\n",
    "\n",
    "Based on the findings of this analysis, female passengers were much more likely to survive than their male counterparts. Children below the age of 18 have noticeably higher survival rate than adults. Finally, first class passengers are much more likely to survive than second or third class passengers. These findings make total sense, because at that point in time, women and children came first, and money buys safety.\n",
    "\n",
    "I'll be likely to revisit this project once I'm more familiar with Python and Regression techniques, so I can find the factor(s) that have the most weight on the survival of any given passenger.\n"
   ]
  },
  {
   "cell_type": "markdown",
   "metadata": {},
   "source": [
    "References:\n",
    "\n",
    "https://www.quora.com/How-do-you-handle-missing-data-statistics-What-imputation-techniques-do-you-recommend-or-follow#!n=18\n",
    "\n",
    "https://en.wikipedia.org/wiki/Missing_data#Imputation\n",
    "\n",
    "http://stats.stackexchange.com/questions/133272/how-bad-can-heteroscedasticity-be-before-causing-problems\n",
    "\n",
    "https://www.analyticsvidhya.com/blog/2016/01/12-pandas-techniques-python-data-manipulation\n",
    "\n",
    "https://www.stackoverflow.com/questions/34162443/why-do-many-examples-use-fig-ax-plt-subplots-in-matplotlib-pyplot-python\n",
    "\n",
    "https://www.matplotlib.org/1.3.0/examples/pie_and_polar_charts/pie_demo_features.html"
   ]
  },
  {
   "cell_type": "code",
   "execution_count": null,
   "metadata": {
    "collapsed": true
   },
   "outputs": [],
   "source": []
  }
 ],
 "metadata": {
  "kernelspec": {
   "display_name": "Python 2",
   "language": "python",
   "name": "python2"
  },
  "language_info": {
   "codemirror_mode": {
    "name": "ipython",
    "version": 2
   },
   "file_extension": ".py",
   "mimetype": "text/x-python",
   "name": "python",
   "nbconvert_exporter": "python",
   "pygments_lexer": "ipython2",
   "version": "2.7.13"
  }
 },
 "nbformat": 4,
 "nbformat_minor": 2
}
